{
  "nbformat": 4,
  "nbformat_minor": 0,
  "metadata": {
    "kernelspec": {
      "display_name": "Python 3",
      "language": "python",
      "name": "python3"
    },
    "language_info": {
      "codemirror_mode": {
        "name": "ipython",
        "version": 3
      },
      "file_extension": ".py",
      "mimetype": "text/x-python",
      "name": "python",
      "nbconvert_exporter": "python",
      "pygments_lexer": "ipython3",
      "version": "3.6.6"
    },
    "colab": {
      "name": "EDA Project Play Store App Review Analysis - Capstone Project.ipynb",
      "provenance": [],
      "collapsed_sections": [],
      "include_colab_link": true
    }
  },
  "cells": [
    {
      "cell_type": "markdown",
      "metadata": {
        "id": "view-in-github",
        "colab_type": "text"
      },
      "source": [
        "<a href=\"https://colab.research.google.com/github/Satya-Prakash009/EDA-playstore-project/blob/main/EDA_Project_Play_Store_App_Review_Analysis_Capstone_Project.ipynb\" target=\"_parent\"><img src=\"https://colab.research.google.com/assets/colab-badge.svg\" alt=\"Open In Colab\"/></a>"
      ]
    },
    {
      "cell_type": "markdown",
      "metadata": {
        "id": "Y06xIdG26kRF"
      },
      "source": [
        "## <b> The Play Store apps data has enormous potential to drive app-making businesses to success. Actionable insights can be drawn for developers to work on and capture the Android market. </b>\n",
        "\n",
        "## <b> Each app (row) has values for catergory, rating, size, and more. Another dataset contains customer reviews of the android apps.</b>\n",
        "\n",
        "## <b> Explore and analyze the data to discover key factors responsible for app engagement and success. </b>"
      ]
    },
    {
      "cell_type": "markdown",
      "metadata": {
        "id": "QeFeHCyPVSWl"
      },
      "source": [
        "1. Google Play Store apps and reviews\n",
        "Mobile apps are everywhere. They are easy to create and can be lucrative. Because of these two factors, more and more apps are being developed. In this notebook, we will do a comprehensive analysis of the Android app market by comparing over ten thousand apps in Google Play across different categories. We'll look for insights in the data to devise strategies to drive growth and retention.\n",
        "\n",
        "Let's take a look at the data, which consists of two files:\n",
        "\n",
        "apps.csv: contains all the details of the applications on Google Play. There are 13 features that describe a given app.\n",
        "user_reviews.csv: contains 100 reviews for each app, most helpful first. The text in each review has been pre-processed and attributed with three new features: Sentiment (Positive, Negative or Neutral), Sentiment Polarity and Sentiment Subjectivity."
      ]
    },
    {
      "cell_type": "code",
      "metadata": {
        "id": "92RlQyaEcuPt"
      },
      "source": [
        "# import package\n",
        "import pandas as pd\n",
        "import numpy as np\n",
        "import matplotlib.pyplot as plt, seaborn as sns\n",
        "%matplotlib inline\n",
        "sns.set(color_codes=True)\n",
        " \n",
        "path = '/content/drive/MyDrive/Colab Notebooks/Data for class/PlayStoreData.csv'\n",
        "play_df = pd.read_csv(path)\n",
        "play_df.info()"
      ],
      "execution_count": null,
      "outputs": []
    },
    {
      "cell_type": "code",
      "metadata": {
        "id": "ZAe785RSpH-8"
      },
      "source": [
        "play_df.head()"
      ],
      "execution_count": null,
      "outputs": []
    },
    {
      "cell_type": "code",
      "metadata": {
        "id": "CWQte7KipQfY"
      },
      "source": [
        "play_df.tail()"
      ],
      "execution_count": null,
      "outputs": []
    },
    {
      "cell_type": "code",
      "metadata": {
        "id": "4sDsWoFxq0yL"
      },
      "source": [
        "play_df.dtypes"
      ],
      "execution_count": null,
      "outputs": []
    },
    {
      "cell_type": "markdown",
      "metadata": {
        "id": "nMBn-hlmVOoA"
      },
      "source": [
        "**2. Data cleaning**\n",
        "The three features that we will be working with most frequently henceforth are Installs, Size, and Price. A careful glance of the dataset reveals that some of these columns mandate data cleaning in order to be consumed by code we'll write later. Specifically, the presence of special characters (, $ +) and letters (M k) in the Installs, Size, and Price columns make their conversion to a numerical data type difficult. Let's clean by removing these and converting each column to a numeric type."
      ]
    },
    {
      "cell_type": "code",
      "metadata": {
        "id": "gXKCFIBDxRBI"
      },
      "source": [
        "# if rating column has Nan values, it is replaced by mean value\n",
        "play_df.fillna(value=play_df['Rating'].median(), inplace=True)"
      ],
      "execution_count": 84,
      "outputs": []
    },
    {
      "cell_type": "markdown",
      "metadata": {
        "id": "2Vc7D7vhGvF-"
      },
      "source": [
        "varies with device ko category ka median value of category... code"
      ]
    },
    {
      "cell_type": "code",
      "metadata": {
        "id": "FvtWBJT9xfe5"
      },
      "source": [
        "# if size column has string values, that row is to be deleted\n",
        "\n",
        "play_df = play_df[play_df[\"Size\"].str.contains(\"Varies with device\")==False]"
      ],
      "execution_count": 61,
      "outputs": []
    },
    {
      "cell_type": "code",
      "metadata": {
        "id": "1oW0HaqnGrqJ"
      },
      "source": [
        ""
      ],
      "execution_count": null,
      "outputs": []
    },
    {
      "cell_type": "code",
      "metadata": {
        "id": "Dfn9eA1QQLTK"
      },
      "source": [
        "# if Installs column has string values, that row is to be deleted\n",
        "\n",
        "play_df= play_df[play_df[\"Installs\"].str.contains(\"Free\")==False]\n",
        "print(play_df)"
      ],
      "execution_count": null,
      "outputs": []
    },
    {
      "cell_type": "code",
      "metadata": {
        "id": "C6RDlXqwkEPc"
      },
      "source": [
        "# every 'k' in size to be should be removed and \"*0.001\" needs to be done\n",
        "for play_df[\"Size\"].str.contains(\"k\"):\n",
        "  play_df[\"Size\"] =*0.001"
      ],
      "execution_count": null,
      "outputs": []
    },
    {
      "cell_type": "code",
      "metadata": {
        "id": "O_5eoHCoVNlj"
      },
      "source": [
        "# REMOVE ALL SPECIAL CHARACTERS \n",
        "chars_to_remove = ['+', ',', 'M', '$']\n",
        "cols_to_clean = ['Installs', 'Size', 'Price']\n",
        "\n",
        "# Loop for each column\n",
        "for col in cols_to_clean:\n",
        "    # Replace the characters in each column col with an empty string\n",
        "    for char in chars_to_remove:\n",
        "        play_df[col] = play_df[col].replace(char, ' ')\n",
        "     \n",
        "play_df.head(10)"
      ],
      "execution_count": null,
      "outputs": []
    },
    {
      "cell_type": "code",
      "metadata": {
        "id": "yJKEyWtuaGby"
      },
      "source": [
        "# Convert col to numeric\n",
        "for col in cols_to_clean:\n",
        "  play_df[col] = pd.to_numeric(play_df[col])"
      ],
      "execution_count": null,
      "outputs": []
    },
    {
      "cell_type": "code",
      "metadata": {
        "id": "6i54-E8N5ZgT"
      },
      "source": [
        "# if genre more than one,only one to be kept, rest discarded\n"
      ],
      "execution_count": null,
      "outputs": []
    },
    {
      "cell_type": "code",
      "metadata": {
        "id": "8nbHR94C5u6D"
      },
      "source": [
        "# all \"and up\" from version to be removed"
      ],
      "execution_count": null,
      "outputs": []
    }
  ]
}