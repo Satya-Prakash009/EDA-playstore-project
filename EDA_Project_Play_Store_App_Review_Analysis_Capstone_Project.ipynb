{
  "nbformat": 4,
  "nbformat_minor": 0,
  "metadata": {
    "kernelspec": {
      "display_name": "Python 3",
      "language": "python",
      "name": "python3"
    },
    "language_info": {
      "codemirror_mode": {
        "name": "ipython",
        "version": 3
      },
      "file_extension": ".py",
      "mimetype": "text/x-python",
      "name": "python",
      "nbconvert_exporter": "python",
      "pygments_lexer": "ipython3",
      "version": "3.6.6"
    },
    "colab": {
      "name": "EDA Project Play Store App Review Analysis - Capstone Project.ipynb",
      "provenance": [],
      "collapsed_sections": [],
      "include_colab_link": true
    }
  },
  "cells": [
    {
      "cell_type": "markdown",
      "metadata": {
        "id": "view-in-github",
        "colab_type": "text"
      },
      "source": [
        "<a href=\"https://colab.research.google.com/github/Satya-Prakash009/EDA-playstore-project/blob/main/EDA_Project_Play_Store_App_Review_Analysis_Capstone_Project.ipynb\" target=\"_parent\"><img src=\"https://colab.research.google.com/assets/colab-badge.svg\" alt=\"Open In Colab\"/></a>"
      ]
    },
    {
      "cell_type": "markdown",
      "metadata": {
        "id": "Y06xIdG26kRF"
      },
      "source": [
        "## <b> The Play Store apps data has enormous potential to drive app-making businesses to success. Actionable insights can be drawn for developers to work on and capture the Android market. </b>\n",
        " \n",
        "## <b> Each app (row) has values for catergory, rating, size, and more. Another dataset contains customer reviews of the android apps.</b>\n",
        " \n",
        "## <b> Explore and analyze the data to discover key factors responsible for app engagement and success. </b>"
      ]
    },
    {
      "cell_type": "markdown",
      "metadata": {
        "id": "QeFeHCyPVSWl"
      },
      "source": [
        "1. Google Play Store apps and reviews\n",
        "Mobile apps are everywhere. They are easy to create and can be lucrative. Because of these two factors, more and more apps are being developed. In this notebook, we will do a comprehensive analysis of the Android app market by comparing over ten thousand apps in Google Play across different categories. We'll look for insights in the data to devise strategies to drive growth and retention.\n",
        "\n",
        "Let's take a look at the data, which consists of two files:\n",
        "\n",
        "apps.csv: contains all the details of the applications on Google Play. There are 13 features that describe a given app.\n",
        "user_reviews.csv: contains 100 reviews for each app, most helpful first. The text in each review has been pre-processed and attributed with three new features: Sentiment (Positive, Negative or Neutral), Sentiment Polarity and Sentiment Subjectivity."
      ]
    },
    {
      "cell_type": "code",
      "metadata": {
        "colab": {
          "base_uri": "https://localhost:8080/"
        },
        "id": "udOjQcWGSfFc",
        "outputId": "f46f6a08-f1c8-412b-f239-a8fe7b783aac"
      },
      "source": [
        "from google.colab import drive\n",
        "drive.mount('/content/drive')"
      ],
      "execution_count": 1,
      "outputs": [
        {
          "output_type": "stream",
          "text": [
            "Mounted at /content/drive\n"
          ],
          "name": "stdout"
        }
      ]
    },
    {
      "cell_type": "code",
      "metadata": {
        "id": "92RlQyaEcuPt"
      },
      "source": [
        "# import package\n",
        "import pandas as pd\n",
        "import numpy as np\n",
        "import matplotlib.pyplot as plt, seaborn as sns\n",
        "%matplotlib inline\n",
        "sns.set(color_codes=True)\n",
        " \n",
        "path = '/content/drive/MyDrive/Colab Notebooks/Data for class/PlayStoreData.csv'\n",
        "play_df = pd.read_csv(path)\n",
        "play_df.info()"
      ],
      "execution_count": null,
      "outputs": []
    },
    {
      "cell_type": "code",
      "metadata": {
        "id": "ZAe785RSpH-8"
      },
      "source": [
        "play_df.head()"
      ],
      "execution_count": null,
      "outputs": []
    },
    {
      "cell_type": "code",
      "metadata": {
        "id": "CWQte7KipQfY"
      },
      "source": [
        "play_df.tail()"
      ],
      "execution_count": null,
      "outputs": []
    },
    {
      "cell_type": "code",
      "metadata": {
        "id": "4sDsWoFxq0yL"
      },
      "source": [
        "play_df.describe()"
      ],
      "execution_count": null,
      "outputs": []
    },
    {
      "cell_type": "markdown",
      "metadata": {
        "id": "nMBn-hlmVOoA"
      },
      "source": [
        "**2. Data cleaning**\n",
        "\n",
        "**Data Preparation and Cleaning**\n",
        "Data preparation is the process of cleaning and transforming raw data prior to processing and analysis. It is an important step prior to processing and often involves reformatting data, making corrections to data, and the combining of data sets to enrich data.\n",
        "\n",
        "The three features that we will be working with most frequently henceforth are Installs, Size, and Price. A careful glance of the dataset reveals that some of these columns mandate data cleaning in order to be consumed by code we'll write later. Specifically, the presence of special characters (, $ +) and letters (M k) in the Installs, Size, and Price columns make their conversion to a numerical data type difficult. Let's clean by removing these and converting each column to a numeric type."
      ]
    },
    {
      "cell_type": "code",
      "metadata": {
        "id": "wlKQF8xNl3Gg"
      },
      "source": [
        "# removing unwanted columns which are not of much use\n",
        "play_df.drop(['Current Ver','Last Updated', 'Android Ver'], axis=1, inplace=True)"
      ],
      "execution_count": 3,
      "outputs": []
    },
    {
      "cell_type": "code",
      "metadata": {
        "id": "HQY2AfGmTcby",
        "colab": {
          "base_uri": "https://localhost:8080/",
          "height": 285
        },
        "outputId": "160ed54c-6c4d-4e73-ed7e-ba877187538d"
      },
      "source": [
        "#boxplot to see if any outliers\n",
        "play_df.boxplot()\n"
      ],
      "execution_count": 4,
      "outputs": [
        {
          "output_type": "execute_result",
          "data": {
            "text/plain": [
              "<matplotlib.axes._subplots.AxesSubplot at 0x7f8476514d10>"
            ]
          },
          "metadata": {
            "tags": []
          },
          "execution_count": 4
        },
        {
          "output_type": "display_data",
          "data": {
            "image/png": "[encoded data removed]",
            "text/plain": [
              "<Figure size 432x288 with 1 Axes>"
            ]
          },
          "metadata": {
            "tags": []
          }
        }
      ]
    },
    {
      "cell_type": "code",
      "metadata": {
        "id": "V3w-jFqQWPp7",
        "colab": {
          "base_uri": "https://localhost:8080/",
          "height": 78
        },
        "outputId": "57026f25-7322-4abf-b655-32f39411e314"
      },
      "source": [
        "# checking for rating more than 5\n",
        "play_df[play_df.Rating > 5]"
      ],
      "execution_count": 5,
      "outputs": [
        {
          "output_type": "execute_result",
          "data": {
            "text/html": [
              "<div>\n",
              "<style scoped>\n",
              "    .dataframe tbody tr th:only-of-type {\n",
              "        vertical-align: middle;\n",
              "    }\n",
              "\n",
              "    .dataframe tbody tr th {\n",
              "        vertical-align: top;\n",
              "    }\n",
              "\n",
              "    .dataframe thead th {\n",
              "        text-align: right;\n",
              "    }\n",
              "</style>\n",
              "<table border=\"1\" class=\"dataframe\">\n",
              "  <thead>\n",
              "    <tr style=\"text-align: right;\">\n",
              "      <th></th>\n",
              "      <th>App</th>\n",
              "      <th>Category</th>\n",
              "      <th>Rating</th>\n",
              "      <th>Reviews</th>\n",
              "      <th>Size</th>\n",
              "      <th>Installs</th>\n",
              "      <th>Type</th>\n",
              "      <th>Price</th>\n",
              "      <th>Content Rating</th>\n",
              "      <th>Genres</th>\n",
              "    </tr>\n",
              "  </thead>\n",
              "  <tbody>\n",
              "    <tr>\n",
              "      <th>10472</th>\n",
              "      <td>Life Made WI-Fi Touchscreen Photo Frame</td>\n",
              "      <td>1.9</td>\n",
              "      <td>19.0</td>\n",
              "      <td>3.0M</td>\n",
              "      <td>1,000+</td>\n",
              "      <td>Free</td>\n",
              "      <td>0</td>\n",
              "      <td>Everyone</td>\n",
              "      <td>NaN</td>\n",
              "      <td>February 11, 2018</td>\n",
              "    </tr>\n",
              "  </tbody>\n",
              "</table>\n",
              "</div>"
            ],
            "text/plain": [
              "                                           App  ...             Genres\n",
              "10472  Life Made WI-Fi Touchscreen Photo Frame  ...  February 11, 2018\n",
              "\n",
              "[1 rows x 10 columns]"
            ]
          },
          "metadata": {
            "tags": []
          },
          "execution_count": 5
        }
      ]
    },
    {
      "cell_type": "code",
      "metadata": {
        "id": "53HSJOwbWuwm"
      },
      "source": [
        "#removing the row\n",
        "play_df.drop([10472], inplace=True)"
      ],
      "execution_count": 6,
      "outputs": []
    },
    {
      "cell_type": "code",
      "metadata": {
        "id": "k-FdPaLMXaXt"
      },
      "source": [
        "# boxplot to check if rating column ok\n",
        "play_df.boxplot()"
      ],
      "execution_count": null,
      "outputs": []
    },
    {
      "cell_type": "code",
      "metadata": {
        "id": "KFv1HqVuURRL"
      },
      "source": [
        "#finding sum of missing values in dataset\n",
        "play_df.isnull().sum()"
      ],
      "execution_count": null,
      "outputs": []
    },
    {
      "cell_type": "code",
      "metadata": {
        "id": "gXKCFIBDxRBI"
      },
      "source": [
        "# if rating column has Nan values, it is replaced by median value\n",
        "play_df['Rating'].fillna(value=play_df['Rating'].median(), inplace=True)"
      ],
      "execution_count": 9,
      "outputs": []
    },
    {
      "cell_type": "code",
      "metadata": {
        "id": "1oW0HaqnGrqJ"
      },
      "source": [
        "# checking for any more Null values\n",
        "play_df.isnull().sum()"
      ],
      "execution_count": null,
      "outputs": []
    },
    {
      "cell_type": "code",
      "metadata": {
        "id": "xAK-yHv8q6mi"
      },
      "source": [
        "# checking for Null value in type column\n",
        "play_df[play_df['Type'].isnull()]"
      ],
      "execution_count": null,
      "outputs": []
    },
    {
      "cell_type": "code",
      "metadata": {
        "id": "jxwNLwGvrg3G"
      },
      "source": [
        "#removing the row\n",
        "play_df.drop([9148], inplace=True)"
      ],
      "execution_count": 12,
      "outputs": []
    },
    {
      "cell_type": "code",
      "metadata": {
        "id": "gcbSB5N3rpLz"
      },
      "source": [
        "# checking for any more Null values\n",
        "play_df.isnull().sum()"
      ],
      "execution_count": null,
      "outputs": []
    },
    {
      "cell_type": "code",
      "metadata": {
        "id": "sYvj2K0EAmwY"
      },
      "source": [
        "# converting columns to integer"
      ],
      "execution_count": null,
      "outputs": []
    },
    {
      "cell_type": "code",
      "metadata": {
        "id": "mrngI3TGGWav"
      },
      "source": [
        "# convert all size in MB\n",
        "play_df['Size'] = play_df.Size.apply(lambda x: x.replace('k', 'e+3'))\n",
        "play_df[10050:10060]"
      ],
      "execution_count": null,
      "outputs": []
    },
    {
      "cell_type": "code",
      "metadata": {
        "id": "O_5eoHCoVNlj"
      },
      "source": [
        "# REMOVE ALL SPECIAL CHARACTERS \n",
        "chars_to_remove = ['+', ',', 'M', '$']\n",
        "cols_to_clean = ['Installs', 'Size','Price']\n",
        "\n",
        "# Loop for each column\n",
        "for col in cols_to_clean:\n",
        "    # Replace the characters in each column col with an empty string\n",
        "    for char in chars_to_remove:\n",
        "        play_df[col] = play_df[col].str.replace(char,\"\")\n",
        "    # Convert col to numeric\n",
        "    play_df[col] = pd.to_numeric(play_df[col])\n",
        "\n",
        "play_df.head(10)"
      ],
      "execution_count": null,
      "outputs": []
    },
    {
      "cell_type": "markdown",
      "metadata": {
        "id": "W-Lf1ekMFY4v"
      },
      "source": [
        "**DATA VISULIZATION**\n",
        "We visualise data to find "
      ]
    },
    {
      "cell_type": "code",
      "metadata": {
        "id": "zAYmnXXgFm_0"
      },
      "source": [
        "grp = play_df.groupby('Category')\n",
        "x = grp['Installs'].agg(np.mean)\n",
        "y = grp['Price'].agg(np.mean)\n",
        "z = grp['Reviews'].agg(np.mean)"
      ],
      "execution_count": null,
      "outputs": []
    }
  ]
}